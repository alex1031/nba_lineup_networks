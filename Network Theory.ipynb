{
 "cells": [
  {
   "cell_type": "code",
   "execution_count": 14,
   "id": "dc6c8c50",
   "metadata": {},
   "outputs": [],
   "source": [
    "import pandas as pd\n",
    "import numpy as np\n",
    "import nba_api"
   ]
  },
  {
   "cell_type": "markdown",
   "id": "97257ccc",
   "metadata": {},
   "source": [
    "# Data Collection"
   ]
  },
  {
   "cell_type": "code",
   "execution_count": 15,
   "id": "be3d7742",
   "metadata": {},
   "outputs": [],
   "source": [
    "from nba_api.stats.endpoints import leaguedashplayerstats\n",
    "from nba_api.stats.endpoints import leaguedashptdefend\n",
    "\n",
    "play_basic = leaguedashplayerstats.LeagueDashPlayerStats(per_mode_detailed=\"PerGame\", season='2022-23').get_data_frames()[0]\n",
    "play_advanced = leaguedashplayerstats.LeagueDashPlayerStats(measure_type_detailed_defense=\"Advanced\", per_mode_detailed=\"PerGame\", season='2022-23').get_data_frames()[0]\n",
    "play_defense = leaguedashplayerstats.LeagueDashPlayerStats(measure_type_detailed_defense=\"Defense\", per_mode_detailed=\"PerGame\", season='2022-23').get_data_frames()[0]\n",
    "play_opponent = leaguedashptdefend.LeagueDashPtDefend(defense_category=\"Overall\", season='2022-23').get_data_frames()[0]"
   ]
  },
  {
   "cell_type": "code",
   "execution_count": 16,
   "id": "0ca72ff6",
   "metadata": {},
   "outputs": [
    {
     "data": {
      "text/plain": [
       "(539, 66)"
      ]
     },
     "execution_count": 16,
     "metadata": {},
     "output_type": "execute_result"
    }
   ],
   "source": [
    "play_basic.shape"
   ]
  },
  {
   "cell_type": "code",
   "execution_count": 17,
   "id": "2ffa1448",
   "metadata": {},
   "outputs": [],
   "source": [
    "# Storing Required Information from players\n",
    "\n",
    "player_id = list(set(play_basic[\"PLAYER_ID\"]))\n",
    "player_dict = {}\n",
    "\n",
    "for p in player_id:\n",
    "    # Field Goal %\n",
    "    fg_pct = play_basic[play_basic[\"PLAYER_ID\"] == p][\"FG_PCT\"].values[0]\n",
    "    # Assist to turnover ratio\n",
    "    ast_to = play_advanced[play_advanced[\"PLAYER_ID\"] == p][\"AST_TO\"].values[0]\n",
    "    # Offensive Rebound %\n",
    "    oreb = play_advanced[play_advanced[\"PLAYER_ID\"] == p][\"OREB_PCT\"].values[0]\n",
    "    # Defensive Rebound %\n",
    "    dreb = play_advanced[play_advanced[\"PLAYER_ID\"] == p][\"DREB_PCT\"].values[0]\n",
    "    # Steal %\n",
    "    stl = play_defense[play_defense[\"PLAYER_ID\"] == p][\"PCT_STL\"].values[0]\n",
    "    # Opponent Miss %\n",
    "    if len(play_opponent[play_opponent[\"CLOSE_DEF_PERSON_ID\"] == p][\"D_FG_PCT\"]) > 0:\n",
    "        opp_miss = 1-play_opponent[play_opponent[\"CLOSE_DEF_PERSON_ID\"] == p][\"D_FG_PCT\"].values[0]\n",
    "        player_dict[p] = [fg_pct, ast_to, oreb, dreb, stl, round(opp_miss, 2)]\n",
    "    else:\n",
    "        player_dict[p] = [fg_pct, ast_to, oreb, dreb, stl, 0]"
   ]
  },
  {
   "cell_type": "code",
   "execution_count": 41,
   "id": "2b28f1fa",
   "metadata": {
    "scrolled": true
   },
   "outputs": [],
   "source": [
    "# Storing all lineups\n",
    "from nba_api.stats.endpoints import leaguedashlineups\n",
    "\n",
    "lineups_basic = leaguedashlineups.LeagueDashLineups(per_mode_detailed=\"PerGame\", season='2022-23').get_data_frames()[0]\n",
    "lineups_advanced = leaguedashlineups.LeagueDashLineups(per_mode_detailed=\"PerGame\", measure_type_detailed_defense=\"Advanced\", season='2022-23').get_data_frames()[0]\n",
    "lineups_opponent = leaguedashlineups.LeagueDashLineups(per_mode_detailed=\"PerGame\", measure_type_detailed_defense=\"Opponent\", season='2022-23').get_data_frames()[0]\n",
    "\n",
    "# Filter out lineups with less than 5 games played and irrelevant stats\n",
    "lineups_basic = lineups_basic[(lineups_basic[\"GP\"] >= 5) & (lineups_basic[\"MIN\"] >= 2)].reset_index(drop=True)\n",
    "lineups_basic = lineups_basic[[\"GROUP_ID\", \"GROUP_NAME\", \"TEAM_ID\", \"TEAM_ABBREVIATION\", \"GP\", \"MIN\", \"FG_PCT\", \"STL\"]]\n",
    "lineups_advanced = lineups_advanced[lineups_advanced[\"GP\"] >= 5].reset_index(drop=True)\n",
    "lineups_advanced = lineups_advanced[[\"GROUP_ID\", \"GROUP_NAME\", \"TEAM_ID\", \"TEAM_ABBREVIATION\", \"GP\", \"AST_TO\", \"OREB_PCT\", \"DREB_PCT\"]]\n",
    "lineups_opponent = lineups_opponent[lineups_opponent[\"GP\"] >= 5].reset_index(drop=True)\n",
    "lineups_opponent = lineups_opponent[[\"GROUP_ID\", \"GROUP_NAME\", \"TEAM_ID\", \"TEAM_ABBREVIATION\", \"GP\", \"OPP_FG_PCT\"]]\n",
    "lineups_opponent[\"OPP_FG_PCT\"] = 1 - lineups_opponent[\"OPP_FG_PCT\"]\n",
    "\n",
    "lineups = pd.merge(lineups_basic, lineups_advanced, on=[\"GROUP_ID\", \"GROUP_NAME\", \"TEAM_ID\", \"TEAM_ABBREVIATION\", \"GP\"])\n",
    "lineups = pd.merge(lineups, lineups_opponent, on=[\"GROUP_ID\", \"GROUP_NAME\", \"TEAM_ID\", \"TEAM_ABBREVIATION\", \"GP\"])\n",
    " \n",
    "# lineups = lineups[[\"GROUP_ID\", \"GROUP_NAME\", \"TEAM_ID\", \"TEAM_ABBREVIATION\", \"GP\", \"MIN\"]].sort_values([\"GP\", \"MIN\"], ascending=False).reset_index(drop=True)"
   ]
  },
  {
   "cell_type": "code",
   "execution_count": 42,
   "id": "6d9c1b8e",
   "metadata": {},
   "outputs": [],
   "source": [
    "# Normalise Columns\n",
    "lineups[\"FG_PCT\"] = (lineups[\"FG_PCT\"] - lineups[\"FG_PCT\"].mean())/lineups[\"FG_PCT\"].std()\n",
    "lineups[\"STL\"] = (lineups[\"STL\"] - lineups[\"STL\"].mean())/lineups[\"STL\"].std()\n",
    "lineups[\"OREB_PCT\"] = (lineups[\"OREB_PCT\"] - lineups[\"OREB_PCT\"].mean())/lineups[\"OREB_PCT\"].std()\n",
    "lineups[\"DREB_PCT\"] = (lineups[\"DREB_PCT\"] - lineups[\"DREB_PCT\"].mean())/lineups[\"DREB_PCT\"].std()\n",
    "lineups[\"AST_TO\"] = (lineups[\"AST_TO\"] - lineups[\"AST_TO\"].mean())/lineups[\"AST_TO\"].std()\n",
    "lineups[\"OPP_FG_PCT\"] = (lineups[\"OPP_FG_PCT\"] - lineups[\"OPP_FG_PCT\"].mean())/lineups[\"OPP_FG_PCT\"].std()"
   ]
  },
  {
   "cell_type": "code",
   "execution_count": 43,
   "id": "21e305b4",
   "metadata": {},
   "outputs": [
    {
     "data": {
      "text/plain": [
       "(1219, 12)"
      ]
     },
     "execution_count": 43,
     "metadata": {},
     "output_type": "execute_result"
    }
   ],
   "source": [
    "lineups.shape"
   ]
  },
  {
   "cell_type": "code",
   "execution_count": 44,
   "id": "2e2a5445",
   "metadata": {
    "scrolled": true
   },
   "outputs": [],
   "source": [
    "# Pair Players with their respective lineup\n",
    "\n",
    "lineup_ls = lineups[\"GROUP_ID\"].str.split(\"-\").str[1:6]\n",
    "fg_tups = []\n",
    "ast_to_tups = []\n",
    "oreb_tups = []\n",
    "dreb_tups = []\n",
    "stl_tups = []\n",
    "opp_miss_tups = []\n",
    "\n",
    "num_lineups = lineups.groupby(\"TEAM_ABBREVIATION\").count()\n",
    "\n",
    "for p in player_id:\n",
    "    j = 0\n",
    "    play_index = []\n",
    "    \n",
    "    # Find all lineups involving the player\n",
    "    for ls in lineup_ls:\n",
    "        if str(p) in ls:\n",
    "            play_index.append(j)\n",
    "        j += 1\n",
    "    \n",
    "    if len(play_index) > 0:\n",
    "        df = lineups.loc[play_index]\n",
    "        df_grouped = df.groupby(\"TEAM_ABBREVIATION\").count()\n",
    "        df_team = list(df_grouped.index)\n",
    "        \n",
    "        # Giving more weight to players involved in more important lineups\n",
    "        for t in df_team:\n",
    "            # Calculating average minute of lineups for team\n",
    "            avg_lineup_min = np.mean(lineups[lineups[\"TEAM_ABBREVIATION\"] == t].MIN)\n",
    "            # Players who got traded mid season -> Filtering different teams\n",
    "            team_df = df[df[\"TEAM_ABBREVIATION\"] == t].reset_index(drop=True)\n",
    "            lineup_min = list(team_df[\"MIN\"])\n",
    "            \n",
    "            i = 0\n",
    "            for m in lineup_min:\n",
    "                # (Weight * minutes of lineup)/(average lineups minutes of the team)\n",
    "                group_id = team_df.iloc[i][\"GROUP_ID\"]\n",
    "                # Also need to adjust for stats from the lineup\n",
    "                fg_norm = 1 + team_df.iloc[i][\"FG_PCT\"]\n",
    "                ast_norm = 1 + team_df.iloc[i][\"AST_TO\"]\n",
    "                oreb_norm = 1 + team_df.iloc[i][\"OREB_PCT\"]\n",
    "                dreb_norm = 1 + team_df.iloc[i][\"DREB_PCT\"]\n",
    "                stl_norm = 1 + team_df.iloc[i][\"STL\"]\n",
    "                opp_norm = 1 + team_df.iloc[i][\"OPP_FG_PCT\"]\n",
    "                # Apply to all other stats\n",
    "                fg_tups.append((p, group_id, player_dict[p][0] * m/avg_lineup_min * fg_norm))\n",
    "                ast_to_tups.append((p, group_id, player_dict[p][1] * m/avg_lineup_min * ast_norm))\n",
    "                oreb_tups.append((p, group_id, player_dict[p][2] * m/avg_lineup_min * oreb_norm))\n",
    "                dreb_tups.append((p, group_id, player_dict[p][3] * m/avg_lineup_min * dreb_norm))\n",
    "                stl_tups.append((p, group_id, player_dict[p][4] * m/avg_lineup_min * stl_norm))\n",
    "                opp_miss_tups.append((p, group_id, player_dict[p][5] * m/avg_lineup_min * opp_norm))\n",
    "                i += 1"
   ]
  },
  {
   "cell_type": "markdown",
   "id": "e4637c02",
   "metadata": {},
   "source": [
    "# Building the Network"
   ]
  },
  {
   "cell_type": "markdown",
   "id": "935c917f",
   "metadata": {},
   "source": [
    "From the data-set, a bipartite graph is constructed where nodes are either players or fiveman units that play together. Weighted edges are drawn between player nodes and line-up\n",
    "nodes where the weight is one of the six metrics defined in 4.2 as providing insight into how\n",
    "effective a player is. As a result, each of these weighting functions results in a different\n",
    "bipartite graph, all with the same edge-set but with different weights. \n"
   ]
  },
  {
   "cell_type": "code",
   "execution_count": 45,
   "id": "6a8c0cfe",
   "metadata": {},
   "outputs": [],
   "source": [
    "import networkx as nx\n",
    "import matplotlib.pyplot as plt"
   ]
  },
  {
   "cell_type": "markdown",
   "id": "8d35cf43",
   "metadata": {},
   "source": [
    "## FG%"
   ]
  },
  {
   "cell_type": "code",
   "execution_count": 46,
   "id": "9fa84c6a",
   "metadata": {},
   "outputs": [],
   "source": [
    "team_abbrev = list(set(lineups_basic[\"TEAM_ABBREVIATION\"]))\n",
    "all_pg_dicts_fg = []\n",
    "all_eigen_dicts_fg = []\n",
    "\n",
    "i = 0\n",
    "for t in team_abbrev:\n",
    "    # Build Network by Team\n",
    "    t_lineups = list(lineups_basic[lineups_basic[\"TEAM_ABBREVIATION\"] == t][\"GROUP_ID\"])\n",
    "    temp_tup = []\n",
    "    \n",
    "    for tup in fg_tups:\n",
    "        l = tup[1] # Lineup\n",
    "        if l in t_lineups:\n",
    "            temp_tup.append(tup)\n",
    "\n",
    "    tempG = nx.Graph()\n",
    "    tempG.add_weighted_edges_from(temp_tup)\n",
    "    \n",
    "    centrality = nx.eigenvector_centrality(tempG, weight='weight')\n",
    "    pagerank = nx.pagerank(tempG)\n",
    "    \n",
    "    eigen_dict = {}\n",
    "    page_dict = {}\n",
    "    \n",
    "    for p in centrality:\n",
    "        if p in player_id:\n",
    "            name = play_basic[play_basic[\"PLAYER_ID\"] == p][\"PLAYER_NAME\"].values[0]\n",
    "            page_dict[name] = pagerank[p]\n",
    "            eigen_dict[name] = centrality[p]\n",
    "    \n",
    "    sorted_page_dict = sorted(page_dict.items(), key=lambda x: x[1], reverse=True)\n",
    "    sorted_eigen_dict = sorted(eigen_dict.items(), key=lambda x: x[1], reverse=True)\n",
    "    \n",
    "    all_pg_dicts_fg.append(sorted_page_dict)\n",
    "    all_eigen_dicts_fg.append(sorted_eigen_dict)"
   ]
  },
  {
   "cell_type": "code",
   "execution_count": 47,
   "id": "814633f9",
   "metadata": {},
   "outputs": [],
   "source": [
    "fg_pg_result = {}\n",
    "fg_eigen_result = {}\n",
    "\n",
    "for d in all_pg_dicts_fg:\n",
    "    fg_pg_result.update(d)\n",
    "    \n",
    "for e in all_eigen_dicts_fg:\n",
    "    fg_eigen_result.update(e)"
   ]
  },
  {
   "cell_type": "code",
   "execution_count": 48,
   "id": "ddf16075",
   "metadata": {},
   "outputs": [
    {
     "data": {
      "text/plain": [
       "[('Ivica Zubac', 0.09213283622907464),\n",
       " ('Nic Claxton', 0.09161950362586392),\n",
       " ('Bam Adebayo', 0.08837301041010039),\n",
       " ('Jalen Williams', 0.08245527187290475),\n",
       " ('Shai Gilgeous-Alexander', 0.08239000995461263),\n",
       " ('Deandre Ayton', 0.08101343636573861),\n",
       " ('Jarrett Allen', 0.08010023512034709),\n",
       " ('Luka Doncic', 0.07934849618779657),\n",
       " ('Jalen Duren', 0.07927428672417725),\n",
       " ('Nikola Jokic', 0.07921992786644778)]"
      ]
     },
     "execution_count": 48,
     "metadata": {},
     "output_type": "execute_result"
    }
   ],
   "source": [
    "fg_pg_result = sorted(fg_pg_result.items(), key=lambda x: x[1], reverse=True)\n",
    "fg_pg_result[:10] "
   ]
  },
  {
   "cell_type": "code",
   "execution_count": 49,
   "id": "a51ffe28",
   "metadata": {},
   "outputs": [
    {
     "data": {
      "text/plain": [
       "[('Ivica Zubac', 0.48334669627788035),\n",
       " ('Deandre Ayton', 0.44285594870809597),\n",
       " ('Jalen Duren', 0.42977828690645803),\n",
       " ('Nic Claxton', 0.4260408678178495),\n",
       " ('Bam Adebayo', 0.42223588433693293),\n",
       " ('Anthony Davis', 0.3979830658865668),\n",
       " ('Rudy Gobert', 0.39682202314833526),\n",
       " ('Nikola Jokic', 0.3938978276518752),\n",
       " ('Luka Doncic', 0.39173694570342676),\n",
       " ('Alperen Sengun', 0.3862747212710394)]"
      ]
     },
     "execution_count": 49,
     "metadata": {},
     "output_type": "execute_result"
    }
   ],
   "source": [
    "fg_eigen_result = sorted(fg_eigen_result.items(), key=lambda x: x[1], reverse=True)\n",
    "fg_eigen_result[:10]"
   ]
  },
  {
   "cell_type": "code",
   "execution_count": 51,
   "id": "a6ff4931",
   "metadata": {},
   "outputs": [
    {
     "data": {
      "image/png": "[encoded data removed]",
      "text/plain": [
       "<Figure size 1000x500 with 1 Axes>"
      ]
     },
     "metadata": {},
     "output_type": "display_data"
    }
   ],
   "source": [
    "plt.figure(figsize=(10, 5))\n",
    "pid_ls = []\n",
    "lid_ls = []\n",
    "\n",
    "for n in list(tempG.nodes()):\n",
    "    if type(n) == int:\n",
    "        pid_ls.append(n)\n",
    "    else:\n",
    "        lid_ls.append(n)\n",
    "\n",
    "name_id_dict = {}\n",
    "\n",
    "for p in pid_ls:\n",
    "    name = play_basic[play_basic[\"PLAYER_ID\"] == p][\"PLAYER_NAME\"].values[0]\n",
    "    name_id_dict[p] = name\n",
    "\n",
    "edge_weight = list(nx.get_edge_attributes(tempG,'weight').values())\n",
    "\n",
    "pos = nx.spring_layout(tempG)\n",
    "nx.draw_networkx(tempG, pos, width=edge_weight, nodelist=pid_ls, node_color='r', node_size=100,\n",
    "                 label='Player', with_labels=False, edge_color='g', alpha=0.8)\n",
    "nx.draw_networkx_nodes(tempG, pos, nodelist=lid_ls, node_size=50, alpha=0.2, label=\"Lineup\")\n",
    "nx.draw_networkx_labels(tempG, pos, labels=name_id_dict, verticalalignment = \"center_baseline\", font_size=6,\n",
    "                        horizontalalignment=\"center\")\n",
    "\n",
    "plt.title(\"Network for {}\".format(t))\n",
    "plt.legend()\n",
    "plt.show()"
   ]
  },
  {
   "cell_type": "markdown",
   "id": "ef97d39b",
   "metadata": {},
   "source": [
    "## AST TO"
   ]
  },
  {
   "cell_type": "markdown",
   "id": "1b448b7c",
   "metadata": {},
   "source": [
    "### Network by Team"
   ]
  },
  {
   "cell_type": "code",
   "execution_count": 52,
   "id": "98ec9d95",
   "metadata": {},
   "outputs": [],
   "source": [
    "all_pg_dicts_ast_to = []\n",
    "all_eigen_dicts_ast_to = []\n",
    "\n",
    "for t in team_abbrev:\n",
    "    # Build Network by Team\n",
    "    t_lineups = list(lineups_basic[lineups_basic[\"TEAM_ABBREVIATION\"] == t][\"GROUP_ID\"])\n",
    "    temp_tup = []\n",
    "    \n",
    "    for tup in ast_to_tups:\n",
    "        l = tup[1] # Lineup\n",
    "        if l in t_lineups:\n",
    "            temp_tup.append(tup)\n",
    "\n",
    "    tempG = nx.Graph()\n",
    "    tempG.add_weighted_edges_from(temp_tup)\n",
    "    centrality = nx.eigenvector_centrality(tempG, weight='weight', max_iter=500)\n",
    "    pagerank = nx.pagerank(tempG)\n",
    "    \n",
    "    eigen_dict = {}\n",
    "    page_dict = {}\n",
    "    \n",
    "    for p in centrality:\n",
    "        if p in player_id:\n",
    "            name = play_basic[play_basic[\"PLAYER_ID\"] == p][\"PLAYER_NAME\"].values[0]\n",
    "            page_dict[name] = pagerank[p]\n",
    "            eigen_dict[name] = centrality[p]\n",
    "    \n",
    "    sorted_page_dict = sorted(page_dict.items(), key=lambda x: x[1], reverse=True)\n",
    "    sorted_eigen_dict = sorted(eigen_dict.items(), key=lambda x: x[1], reverse=True)\n",
    "    \n",
    "    all_pg_dicts_ast_to.append(sorted_page_dict)\n",
    "    all_eigen_dicts_ast_to.append(sorted_eigen_dict)"
   ]
  },
  {
   "cell_type": "code",
   "execution_count": 55,
   "id": "37a546a9",
   "metadata": {},
   "outputs": [],
   "source": [
    "astto_pg_result = {}\n",
    "astto_eigen_result = {}\n",
    "\n",
    "for d in all_pg_dicts_ast_to:\n",
    "    astto_pg_result.update(d)\n",
    "    \n",
    "for e in all_eigen_dicts_ast_to:\n",
    "    astto_eigen_result.update(e)"
   ]
  },
  {
   "cell_type": "code",
   "execution_count": 56,
   "id": "81054548",
   "metadata": {},
   "outputs": [
    {
     "data": {
      "text/plain": [
       "[('Tyus Jones', 0.13478734450053093),\n",
       " ('Chris Paul', 0.12214298279991052),\n",
       " ('Monte Morris', 0.11665549715898468),\n",
       " ('Tyrese Haliburton', 0.11513324209372564),\n",
       " ('Fred VanVleet', 0.11330379312713085),\n",
       " ('Dejounte Murray', 0.10007887128139226),\n",
       " ('Tre Jones', 0.0960412060898714),\n",
       " ('Jimmy Butler', 0.09593637606587808),\n",
       " ('Kevon Looney', 0.09052359774218706),\n",
       " ('Darius Garland', 0.08899064869751522)]"
      ]
     },
     "execution_count": 56,
     "metadata": {},
     "output_type": "execute_result"
    }
   ],
   "source": [
    "astto_pg_result = sorted(astto_pg_result.items(), key=lambda x: x[1], reverse=True)\n",
    "astto_pg_result[:10]"
   ]
  },
  {
   "cell_type": "code",
   "execution_count": 57,
   "id": "158121fa",
   "metadata": {},
   "outputs": [
    {
     "data": {
      "text/plain": [
       "[('Tyus Jones', 0.6416451897388082),\n",
       " ('Monte Morris', 0.625032887045179),\n",
       " ('Chris Paul', 0.6167251914838368),\n",
       " ('Tyrese Haliburton', 0.5908103495412398),\n",
       " ('Tre Jones', 0.5863192218582788),\n",
       " ('Kevon Looney', 0.5525846021077013),\n",
       " ('Dejounte Murray', 0.5289149185311848),\n",
       " ('Mike Conley', 0.5013601222858297),\n",
       " ('Jimmy Butler', 0.4910611284037033),\n",
       " ('Patrick Beverley', 0.4579794021868897)]"
      ]
     },
     "execution_count": 57,
     "metadata": {},
     "output_type": "execute_result"
    }
   ],
   "source": [
    "astto_eigen_result = sorted(astto_eigen_result.items(), key=lambda x: x[1], reverse=True)\n",
    "astto_eigen_result[:10]"
   ]
  },
  {
   "cell_type": "markdown",
   "id": "b755bf33",
   "metadata": {},
   "source": [
    "## OREB%"
   ]
  },
  {
   "cell_type": "code",
   "execution_count": 58,
   "id": "7d36a881",
   "metadata": {},
   "outputs": [],
   "source": [
    "all_pg_dicts_oreb = []\n",
    "all_eigen_dicts_oreb = []\n",
    "\n",
    "for t in team_abbrev:\n",
    "    # Build Network by Team\n",
    "    t_lineups = list(lineups_basic[lineups_basic[\"TEAM_ABBREVIATION\"] == t][\"GROUP_ID\"])\n",
    "    temp_tup = []\n",
    "    \n",
    "    for tup in oreb_tups:\n",
    "        l = tup[1] # Lineup\n",
    "        if l in t_lineups:\n",
    "            temp_tup.append(tup)\n",
    "\n",
    "    tempG = nx.Graph()\n",
    "    tempG.add_weighted_edges_from(temp_tup)\n",
    "    centrality = nx.eigenvector_centrality(tempG, weight='weight', max_iter=500)\n",
    "    pagerank = nx.pagerank(tempG, max_iter=500)\n",
    "    \n",
    "    eigen_dict = {}\n",
    "    page_dict = {}\n",
    "    \n",
    "    for p in centrality:\n",
    "        if p in player_id:\n",
    "            name = play_basic[play_basic[\"PLAYER_ID\"] == p][\"PLAYER_NAME\"].values[0]\n",
    "            page_dict[name] = pagerank[p]\n",
    "            eigen_dict[name] = centrality[p]\n",
    "    \n",
    "    sorted_page_dict = sorted(page_dict.items(), key=lambda x: x[1], reverse=True)\n",
    "    sorted_eigen_dict = sorted(eigen_dict.items(), key=lambda x: x[1], reverse=True)\n",
    "    \n",
    "    all_pg_dicts_oreb.append(sorted_page_dict)\n",
    "    all_eigen_dicts_oreb.append(sorted_eigen_dict)"
   ]
  },
  {
   "cell_type": "code",
   "execution_count": 59,
   "id": "5e29d940",
   "metadata": {},
   "outputs": [],
   "source": [
    "oreb_pg_result = {}\n",
    "oreb_eigen_result = {}\n",
    "\n",
    "for d in all_pg_dicts_oreb:\n",
    "    oreb_pg_result.update(d)\n",
    "    \n",
    "for e in all_eigen_dicts_oreb:\n",
    "    oreb_eigen_result.update(e)"
   ]
  },
  {
   "cell_type": "code",
   "execution_count": 60,
   "id": "274ef518",
   "metadata": {},
   "outputs": [
    {
     "data": {
      "text/plain": [
       "[('Nikola Vucevic', 0.19427703928861248),\n",
       " ('Ivica Zubac', 0.17084944746318728),\n",
       " ('Rudy Gobert', 0.16680258100322146),\n",
       " ('Jalen Duren', 0.15814498112517264),\n",
       " ('Anthony Davis', 0.15019526751690265),\n",
       " ('Jarrett Allen', 0.14633060874078113),\n",
       " ('Kevon Looney', 0.14361590998585413),\n",
       " ('Nic Claxton', 0.1429806421577348),\n",
       " ('Dwight Powell', 0.13438818990790502),\n",
       " ('Walker Kessler', 0.13346061241590126)]"
      ]
     },
     "execution_count": 60,
     "metadata": {},
     "output_type": "execute_result"
    }
   ],
   "source": [
    "oreb_pg_result = sorted(oreb_pg_result.items(), key=lambda x: x[1], reverse=True)\n",
    "oreb_pg_result[:10]"
   ]
  },
  {
   "cell_type": "code",
   "execution_count": 61,
   "id": "65bed955",
   "metadata": {},
   "outputs": [
    {
     "data": {
      "text/plain": [
       "[(\"Day'Ron Sharpe\", 0.687013744254695),\n",
       " ('Clint Capela', 0.6784583292806476),\n",
       " ('Steven Adams', 0.6735935202745921),\n",
       " ('Kevon Looney', 0.6686171623106674),\n",
       " ('Mitchell Robinson', 0.6649557289794304),\n",
       " ('Paul Reed', 0.6634560022852546),\n",
       " ('Ivica Zubac', 0.6613725849117816),\n",
       " ('Andre Drummond', 0.6587872957352748),\n",
       " ('Rudy Gobert', 0.6545494065283265),\n",
       " ('Jalen Duren', 0.6507925782442626)]"
      ]
     },
     "execution_count": 61,
     "metadata": {},
     "output_type": "execute_result"
    }
   ],
   "source": [
    "oreb_eigen_result = sorted(oreb_eigen_result.items(), key=lambda x: x[1], reverse=True)\n",
    "oreb_eigen_result[:10]"
   ]
  },
  {
   "cell_type": "markdown",
   "id": "e22bb596",
   "metadata": {},
   "source": [
    "## DREB%"
   ]
  },
  {
   "cell_type": "code",
   "execution_count": 62,
   "id": "422973a2",
   "metadata": {},
   "outputs": [],
   "source": [
    "all_pg_dicts_dreb = []\n",
    "all_eigen_dicts_dreb = []\n",
    "\n",
    "for t in team_abbrev:\n",
    "    # Build Network by Team\n",
    "    t_lineups = list(lineups_basic[lineups_basic[\"TEAM_ABBREVIATION\"] == t][\"GROUP_ID\"])\n",
    "    temp_tup = []\n",
    "    \n",
    "    for tup in dreb_tups:\n",
    "        l = tup[1] # Lineup\n",
    "        if l in t_lineups:\n",
    "            temp_tup.append(tup)\n",
    "\n",
    "    tempG = nx.Graph()\n",
    "    tempG.add_weighted_edges_from(temp_tup)\n",
    "    centrality = nx.eigenvector_centrality(tempG, weight='weight', max_iter=500)\n",
    "    pagerank = nx.pagerank(tempG, max_iter=500)\n",
    "    \n",
    "    eigen_dict = {}\n",
    "    page_dict = {}\n",
    "    \n",
    "    for p in centrality:\n",
    "        if p in player_id:\n",
    "            name = play_basic[play_basic[\"PLAYER_ID\"] == p][\"PLAYER_NAME\"].values[0]\n",
    "            page_dict[name] = pagerank[p]\n",
    "            eigen_dict[name] = centrality[p]\n",
    "    \n",
    "    sorted_page_dict = sorted(page_dict.items(), key=lambda x: x[1], reverse=True)\n",
    "    sorted_eigen_dict = sorted(eigen_dict.items(), key=lambda x: x[1], reverse=True)\n",
    "    \n",
    "    all_pg_dicts_dreb.append(sorted_page_dict)\n",
    "    all_eigen_dicts_dreb.append(sorted_eigen_dict)"
   ]
  },
  {
   "cell_type": "code",
   "execution_count": 63,
   "id": "04cf918d",
   "metadata": {},
   "outputs": [],
   "source": [
    "dreb_pg_result = {}\n",
    "dreb_eigen_result = {}\n",
    "\n",
    "for d in all_pg_dicts_dreb:\n",
    "    dreb_pg_result.update(d)\n",
    "    \n",
    "for e in all_eigen_dicts_dreb:\n",
    "    dreb_eigen_result.update(e)"
   ]
  },
  {
   "cell_type": "code",
   "execution_count": 64,
   "id": "8cd31950",
   "metadata": {},
   "outputs": [
    {
     "data": {
      "text/plain": [
       "[('Nikola Vucevic', 0.11962618364595395),\n",
       " ('Domantas Sabonis', 0.11668145430328365),\n",
       " ('Luka Doncic', 0.11469758757002184),\n",
       " ('Bam Adebayo', 0.11259286700977801),\n",
       " ('Nikola Jokic', 0.1125074858243346),\n",
       " ('Ivica Zubac', 0.1097496783484317),\n",
       " ('Anthony Davis', 0.10866719503371378),\n",
       " ('Josh Giddey', 0.10693557493962413),\n",
       " ('Rudy Gobert', 0.10592912150059984),\n",
       " ('Nic Claxton', 0.1050182274661963)]"
      ]
     },
     "execution_count": 64,
     "metadata": {},
     "output_type": "execute_result"
    }
   ],
   "source": [
    "dreb_pg_result = sorted(dreb_pg_result.items(), key=lambda x: x[1], reverse=True)\n",
    "dreb_pg_result[:10]"
   ]
  },
  {
   "cell_type": "code",
   "execution_count": 65,
   "id": "a8e9e2b1",
   "metadata": {},
   "outputs": [
    {
     "data": {
      "text/plain": [
       "[('Jonas Valanciunas', 0.5972520995499006),\n",
       " ('Nikola Vucevic', 0.5937855766732363),\n",
       " ('Domantas Sabonis', 0.5860179259169308),\n",
       " ('Nikola Jokic', 0.580308295073044),\n",
       " ('Deandre Ayton', 0.5658915508270485),\n",
       " ('Rudy Gobert', 0.5657478665317655),\n",
       " ('Ivica Zubac', 0.5431532294149878),\n",
       " ('Julius Randle', 0.5334010042397702),\n",
       " ('Clint Capela', 0.5306395237516989),\n",
       " ('Luka Doncic', 0.5281602578830608)]"
      ]
     },
     "execution_count": 65,
     "metadata": {},
     "output_type": "execute_result"
    }
   ],
   "source": [
    "dreb_eigen_result = sorted(dreb_eigen_result.items(), key=lambda x: x[1], reverse=True)[:10]\n",
    "dreb_eigen_result[:10]"
   ]
  },
  {
   "cell_type": "markdown",
   "id": "ca32bf0c",
   "metadata": {},
   "source": [
    "## STL"
   ]
  },
  {
   "cell_type": "code",
   "execution_count": 66,
   "id": "e6341e9e",
   "metadata": {},
   "outputs": [],
   "source": [
    "all_pg_dicts_stl = []\n",
    "all_eigen_dicts_stl = []\n",
    "\n",
    "for t in team_abbrev:\n",
    "    # Build Network by Team\n",
    "    t_lineups = list(lineups_basic[lineups_basic[\"TEAM_ABBREVIATION\"] == t][\"GROUP_ID\"])\n",
    "    temp_tup = []\n",
    "    \n",
    "    for tup in stl_tups:\n",
    "        l = tup[1] # Lineup\n",
    "        if l in t_lineups:\n",
    "            temp_tup.append(tup)\n",
    "\n",
    "    tempG = nx.Graph()\n",
    "    tempG.add_weighted_edges_from(temp_tup)\n",
    "    centrality = nx.eigenvector_centrality(tempG, weight='weight', max_iter=500)\n",
    "    pagerank = nx.pagerank(tempG, max_iter=500)\n",
    "    \n",
    "    eigen_dict = {}\n",
    "    page_dict = {}\n",
    "    \n",
    "    for p in centrality:\n",
    "        if p in player_id:\n",
    "            name = play_basic[play_basic[\"PLAYER_ID\"] == p][\"PLAYER_NAME\"].values[0]\n",
    "            page_dict[name] = pagerank[p]\n",
    "            eigen_dict[name] = centrality[p]\n",
    "    \n",
    "    sorted_page_dict = sorted(page_dict.items(), key=lambda x: x[1], reverse=True)\n",
    "    sorted_eigen_dict = sorted(eigen_dict.items(), key=lambda x: x[1], reverse=True)\n",
    "    \n",
    "    all_pg_dicts_stl.append(sorted_page_dict)\n",
    "    all_eigen_dicts_stl.append(sorted_eigen_dict)"
   ]
  },
  {
   "cell_type": "code",
   "execution_count": 67,
   "id": "fea375e3",
   "metadata": {},
   "outputs": [],
   "source": [
    "stl_pg_result = {}\n",
    "stl_eigen_result = {}\n",
    "\n",
    "for d in all_pg_dicts_stl:\n",
    "    stl_pg_result.update(d)\n",
    "    \n",
    "for e in all_eigen_dicts_stl:\n",
    "    stl_eigen_result.update(e)"
   ]
  },
  {
   "cell_type": "code",
   "execution_count": 68,
   "id": "e60a54d5",
   "metadata": {},
   "outputs": [
    {
     "data": {
      "text/plain": [
       "[(\"De'Anthony Melton\", 0.10394484320126998),\n",
       " ('Luka Doncic', 0.09889020988465955),\n",
       " ('O.G. Anunoby', 0.09469106587717602),\n",
       " ('Donovan Mitchell', 0.09378613171523131),\n",
       " ('Anthony Edwards', 0.09259310487595535),\n",
       " ('Chris Paul', 0.092482521827325),\n",
       " ('Dejounte Murray', 0.09219158437867968),\n",
       " ('Shai Gilgeous-Alexander', 0.09047807535352627),\n",
       " ('Kentavious Caldwell-Pope', 0.0897292695362099),\n",
       " ('Jrue Holiday', 0.0884162850586929)]"
      ]
     },
     "execution_count": 68,
     "metadata": {},
     "output_type": "execute_result"
    }
   ],
   "source": [
    "stl_pg_result = sorted(stl_pg_result.items(), key=lambda x: x[1], reverse=True)\n",
    "stl_pg_result[:10]"
   ]
  },
  {
   "cell_type": "code",
   "execution_count": 69,
   "id": "7033d1e2",
   "metadata": {},
   "outputs": [
    {
     "data": {
      "text/plain": [
       "[('Chris Paul', 0.5119476940609863),\n",
       " ('Herbert Jones', 0.5111897729061279),\n",
       " (\"De'Anthony Melton\", 0.5087649179164822),\n",
       " ('Jimmy Butler', 0.48110522962148533),\n",
       " ('Luka Doncic', 0.4778582514727328),\n",
       " ('Marcus Smart', 0.4764839033909725),\n",
       " ('Markelle Fultz', 0.47392737130693535),\n",
       " ('Alex Caruso', 0.4658403540574591),\n",
       " ('Dejounte Murray', 0.46025534994372447),\n",
       " ('Donovan Mitchell', 0.45140440372573987)]"
      ]
     },
     "execution_count": 69,
     "metadata": {},
     "output_type": "execute_result"
    }
   ],
   "source": [
    "stl_eigen_result = sorted(stl_eigen_result.items(), key=lambda x: x[1], reverse=True)\n",
    "stl_eigen_result[:10]"
   ]
  },
  {
   "cell_type": "markdown",
   "id": "e510c65e",
   "metadata": {},
   "source": [
    "## Opponent Miss FG%"
   ]
  },
  {
   "cell_type": "code",
   "execution_count": 70,
   "id": "3cd68268",
   "metadata": {},
   "outputs": [],
   "source": [
    "all_pg_dicts_opp_miss = []\n",
    "all_eigen_dicts_opp_miss = []\n",
    "\n",
    "for t in team_abbrev:\n",
    "    # Build Network by Team\n",
    "    t_lineups = list(lineups_basic[lineups_basic[\"TEAM_ABBREVIATION\"] == t][\"GROUP_ID\"])\n",
    "    temp_tup = []\n",
    "    \n",
    "    for tup in opp_miss_tups:\n",
    "        l = tup[1] # Lineup\n",
    "        if l in t_lineups:\n",
    "            temp_tup.append(tup)\n",
    "\n",
    "    tempG = nx.Graph()\n",
    "    tempG.add_weighted_edges_from(temp_tup)\n",
    "    centrality = nx.eigenvector_centrality(tempG, weight='weight', max_iter=500)\n",
    "    pagerank = nx.pagerank(tempG, max_iter=500, alpha=0.71)\n",
    "    \n",
    "    eigen_dict = {}\n",
    "    page_dict = {}\n",
    "    \n",
    "    for p in centrality:\n",
    "        if p in player_id:\n",
    "            name = play_basic[play_basic[\"PLAYER_ID\"] == p][\"PLAYER_NAME\"].values[0]\n",
    "            page_dict[name] = pagerank[p]\n",
    "            eigen_dict[name] = centrality[p]\n",
    "    \n",
    "    sorted_page_dict = sorted(page_dict.items(), key=lambda x: x[1], reverse=True)\n",
    "    sorted_eigen_dict = sorted(eigen_dict.items(), key=lambda x: x[1], reverse=True)\n",
    "    \n",
    "    all_pg_dicts_opp_miss.append(sorted_page_dict)\n",
    "    all_eigen_dicts_opp_miss.append(sorted_eigen_dict)"
   ]
  },
  {
   "cell_type": "code",
   "execution_count": 71,
   "id": "459904bd",
   "metadata": {},
   "outputs": [],
   "source": [
    "opp_miss_pg_result = {}\n",
    "opp_miss_eigen_result = {}\n",
    "\n",
    "for d in all_pg_dicts_opp_miss:\n",
    "    opp_miss_pg_result.update(d)\n",
    "    \n",
    "for e in all_eigen_dicts_opp_miss:\n",
    "    opp_miss_eigen_result.update(e)"
   ]
  },
  {
   "cell_type": "code",
   "execution_count": 72,
   "id": "cf5ec789",
   "metadata": {},
   "outputs": [
    {
     "data": {
      "text/plain": [
       "[('Shai Gilgeous-Alexander', 0.12581690183338595),\n",
       " ('Kyle Kuzma', 0.07258387784657044),\n",
       " ('Bam Adebayo', 0.07001153398043333),\n",
       " (\"Royce O'Neale\", 0.06918779847241269),\n",
       " ('Jeremy Sochan', 0.06633723877669817),\n",
       " ('Brook Lopez', 0.06549240934632684),\n",
       " ('Immanuel Quickley', 0.0651375684720944),\n",
       " ('Jordan Poole', 0.06460162330052181),\n",
       " ('Harrison Barnes', 0.06221557101780647),\n",
       " ('Scottie Barnes', 0.06199351851148511)]"
      ]
     },
     "execution_count": 72,
     "metadata": {},
     "output_type": "execute_result"
    }
   ],
   "source": [
    "opp_miss_pg_result = sorted(opp_miss_pg_result.items(), key=lambda x: x[1], reverse=True)\n",
    "opp_miss_pg_result[:10] "
   ]
  },
  {
   "cell_type": "code",
   "execution_count": 73,
   "id": "5eb06d2a",
   "metadata": {},
   "outputs": [
    {
     "data": {
      "text/plain": [
       "[('P.J. Washington', 0.4234463518303554),\n",
       " ('Kyle Kuzma', 0.39828802655272394),\n",
       " ('Anthony Davis', 0.3924036684331279),\n",
       " ('Franz Wagner', 0.38664576026371966),\n",
       " ('Luguentz Dort', 0.3784722766080118),\n",
       " ('Draymond Green', 0.37736466839732835),\n",
       " ('CJ McCollum', 0.3757462775504579),\n",
       " ('Deandre Ayton', 0.3751547386719967),\n",
       " ('Bam Adebayo', 0.37503774019409003),\n",
       " ('Nic Claxton', 0.37490456080966117)]"
      ]
     },
     "execution_count": 73,
     "metadata": {},
     "output_type": "execute_result"
    }
   ],
   "source": [
    "opp_miss_eigen_result = sorted(opp_miss_eigen_result.items(), key=lambda x: x[1], reverse=True)\n",
    "opp_miss_eigen_result[:10]"
   ]
  },
  {
   "cell_type": "markdown",
   "id": "f2553a11",
   "metadata": {},
   "source": [
    "# Sorting Results"
   ]
  },
  {
   "cell_type": "code",
   "execution_count": 74,
   "id": "7016b508",
   "metadata": {},
   "outputs": [
    {
     "data": {
      "text/plain": [
       "[('Shai Gilgeous-Alexander', 0.12581690183338595),\n",
       " ('Kyle Kuzma', 0.07258387784657044),\n",
       " ('Bam Adebayo', 0.07001153398043333),\n",
       " (\"Royce O'Neale\", 0.06918779847241269),\n",
       " ('Jeremy Sochan', 0.06633723877669817),\n",
       " ('Brook Lopez', 0.06549240934632684),\n",
       " ('Immanuel Quickley', 0.0651375684720944),\n",
       " ('Jordan Poole', 0.06460162330052181),\n",
       " ('Harrison Barnes', 0.06221557101780647),\n",
       " ('Scottie Barnes', 0.06199351851148511),\n",
       " ('Evan Mobley', 0.061906960044318476),\n",
       " ('Nic Claxton', 0.06184995948801786),\n",
       " ('Anthony Edwards', 0.061615623458559865),\n",
       " ('O.G. Anunoby', 0.061064258360693555),\n",
       " ('CJ McCollum', 0.06091870402069175),\n",
       " ('Jrue Holiday', 0.060889182026823474),\n",
       " ('Max Strus', 0.06071643483391557),\n",
       " (\"De'Aaron Fox\", 0.06051079895683623),\n",
       " ('Paolo Banchero', 0.05975565711080475),\n",
       " ('Pascal Siakam', 0.0595939987976055),\n",
       " ('Jalen Green', 0.05922562829285144),\n",
       " ('Buddy Hield', 0.05917566983028923),\n",
       " ('Fred VanVleet', 0.05876638584791635),\n",
       " ('Tim Hardaway Jr.', 0.05819090712222024),\n",
       " ('Luka Doncic', 0.057760248914191445),\n",
       " ('Caris LeVert', 0.05772719475878093),\n",
       " ('Bennedict Mathurin', 0.057725655676123505),\n",
       " ('Anthony Davis', 0.05768094729572694),\n",
       " ('Derrick White', 0.05758036488421175),\n",
       " ('Gabe Vincent', 0.05757908686736373),\n",
       " ('Draymond Green', 0.05734986081440459),\n",
       " ('Onyeka Okongwu', 0.057157374564130975),\n",
       " ('Zach LaVine', 0.056509596782260335),\n",
       " ('P.J. Washington', 0.055819671167401816),\n",
       " ('Darius Garland', 0.055804500898969635),\n",
       " ('Gary Trent Jr.', 0.055711902049787744),\n",
       " ('Dillon Brooks', 0.055351776502234565),\n",
       " ('Bojan Bogdanovic', 0.05530933876560671),\n",
       " ('Killian Hayes', 0.05520621287826156),\n",
       " ('Jalen Williams', 0.05483614888642265),\n",
       " ('Jordan Clarkson', 0.05454390490790798),\n",
       " ('Ivica Zubac', 0.054360380394484514),\n",
       " ('Trae Young', 0.05430317817761296),\n",
       " ('Malik Monk', 0.05412924195468431),\n",
       " ('Keldon Johnson', 0.053662471015723585),\n",
       " ('Donovan Mitchell', 0.05359301945122687),\n",
       " ('Walker Kessler', 0.053377376432731855),\n",
       " ('Georges Niang', 0.05335431391995387),\n",
       " ('Jerami Grant', 0.05326040313556497),\n",
       " ('Kristaps Porzingis', 0.05290337849708494),\n",
       " ('Jaden McDaniels', 0.052863144192938305),\n",
       " ('Lauri Markkanen', 0.052585861953472826),\n",
       " ('Donte DiVincenzo', 0.052452459917929586),\n",
       " ('Franz Wagner', 0.05222090532187276),\n",
       " ('DeMar DeRozan', 0.052115407289081504),\n",
       " ('Jalen Duren', 0.05201107286270089),\n",
       " ('Jabari Smith Jr.', 0.05185001769425603),\n",
       " ('Jaylen Brown', 0.05162937483515297),\n",
       " ('RJ Barrett', 0.05121664898999503),\n",
       " ('Jayson Tatum', 0.05116492641346481),\n",
       " ('Jarrett Allen', 0.0509518701864783),\n",
       " ('Tari Eason', 0.050743487941463904),\n",
       " ('Bruce Brown', 0.05061720048260711),\n",
       " ('Austin Reaves', 0.05000266365894801),\n",
       " ('Dejounte Murray', 0.049979374468543517),\n",
       " ('Joel Embiid', 0.04980261766629761),\n",
       " ('Anfernee Simons', 0.04976902394693023),\n",
       " ('Deandre Ayton', 0.04954107335959555),\n",
       " ('Kelly Olynyk', 0.04940033250518546),\n",
       " ('Julius Randle', 0.04920270931788046),\n",
       " ('Ja Morant', 0.048900099368844416),\n",
       " ('Mike Muscala', 0.04889992029037977),\n",
       " ('Dennis Smith Jr.', 0.0488502310446667),\n",
       " ('Bobby Portis', 0.04862969089897447),\n",
       " ('Shake Milton', 0.048458257261599726),\n",
       " ('Klay Thompson', 0.04834950995877383),\n",
       " ('Cole Anthony', 0.04816351954466944),\n",
       " ('Shaedon Sharpe', 0.04811606899736273),\n",
       " ('Tyler Herro', 0.04799961610893782),\n",
       " ('Tyrese Maxey', 0.0478982163870046),\n",
       " ('Alex Caruso', 0.04777961757282235),\n",
       " ('Markelle Fultz', 0.04771443438877859),\n",
       " ('Bogdan Bogdanovic', 0.04768456831947208),\n",
       " ('Chris Paul', 0.04767841406410678),\n",
       " ('Paul George', 0.04734450224515723),\n",
       " (\"De'Anthony Melton\", 0.04723135447645642),\n",
       " ('Tyrese Haliburton', 0.0470232248031516),\n",
       " ('Grayson Allen', 0.04679479327160963),\n",
       " ('Jamal Murray', 0.0463987159214508),\n",
       " ('Zach Collins', 0.04620007682895944),\n",
       " ('Grant Williams', 0.04605635446105023),\n",
       " ('Kenyon Martin Jr.', 0.04600296010392758),\n",
       " ('Terry Rozier', 0.045887520693264024),\n",
       " ('Reggie Bullock', 0.04572133505218751),\n",
       " ('Malcolm Brogdon', 0.04564773425940758),\n",
       " ('Kawhi Leonard', 0.04528900804961296),\n",
       " ('Coby White', 0.04517474962545773),\n",
       " ('Rudy Gobert', 0.045156636365758236),\n",
       " ('Deni Avdija', 0.044731306199313564),\n",
       " ('Myles Turner', 0.044254973763331255),\n",
       " ('Chris Boucher', 0.04421435844769106),\n",
       " ('Corey Kispert', 0.04406166557565879),\n",
       " ('Damian Lillard', 0.04402926804764075),\n",
       " ('Kentavious Caldwell-Pope', 0.044027480860936094),\n",
       " ('Trey Murphy III', 0.0438396331661122),\n",
       " ('Nicolas Batum', 0.04363871541356125),\n",
       " ('Tobias Harris', 0.04362498494011761),\n",
       " ('Jevon Carter', 0.04357366977222207),\n",
       " ('Alperen Sengun', 0.04356201949967729),\n",
       " ('Kevin Porter Jr.', 0.043298673179154895),\n",
       " ('Aaron Nesmith', 0.04306937648931702),\n",
       " ('Jimmy Butler', 0.04294196589596154),\n",
       " ('Jaden Ivey', 0.04291260348003618),\n",
       " ('Troy Brown Jr.', 0.04280470950942847),\n",
       " ('Kevon Looney', 0.042762973871254856),\n",
       " ('Joe Harris', 0.04256954928000865),\n",
       " ('Isaiah Hartenstein', 0.04252415593204951),\n",
       " ('Naji Marshall', 0.042306920078999964),\n",
       " ('Nikola Jokic', 0.042293129292359226),\n",
       " ('Keegan Murray', 0.04207279332876673),\n",
       " ('Saddiq Bey', 0.04202898455255987),\n",
       " ('Devin Booker', 0.042000983911427966),\n",
       " ('Bradley Beal', 0.041834424477435954),\n",
       " ('Larry Nance Jr.', 0.041826372602310674),\n",
       " ('Giannis Antetokounmpo', 0.041823938787742806),\n",
       " ('Daniel Gafford', 0.041641900658026726),\n",
       " ('Jaren Jackson Jr.', 0.04155246451987316),\n",
       " ('LeBron James', 0.04146305030974372),\n",
       " ('Monte Morris', 0.04131487236888272),\n",
       " ('Tyus Jones', 0.04131068244041368),\n",
       " ('Kenrich Williams', 0.04128172594576853),\n",
       " ('Desmond Bane', 0.041040878337492676),\n",
       " ('John Collins', 0.04099381484176046),\n",
       " ('Josh Giddey', 0.040957212209327326),\n",
       " ('Al Horford', 0.04091774980199201),\n",
       " ('Josh Green', 0.040744615047794704),\n",
       " ('Caleb Martin', 0.040561775604527964),\n",
       " ('Aaron Gordon', 0.04053286334121014),\n",
       " ('Nikola Vucevic', 0.04050996063171936),\n",
       " ('Michael Porter Jr.', 0.04050974812154784),\n",
       " ('Andrew Nembhard', 0.04046743584497401),\n",
       " ('Luguentz Dort', 0.040412043106710566),\n",
       " ('Dennis Schroder', 0.040149321933135466),\n",
       " ('Drew Eubanks', 0.040079031487124606),\n",
       " ('Santi Aldama', 0.03978470755047509),\n",
       " ('Christian Braun', 0.03975741314723703),\n",
       " ('Jalen Brunson', 0.0395733388048955),\n",
       " ('Cedi Osman', 0.03953896222896864),\n",
       " ('Ayo Dosunmu', 0.039068296481452845),\n",
       " ('Kyle Anderson', 0.03905921106896095),\n",
       " ('T.J. McConnell', 0.03903392289864343),\n",
       " ('Kevin Durant', 0.03898853115567261),\n",
       " ('Trey Lyles', 0.03897867420143025),\n",
       " ('Marcus Morris Sr.', 0.038570726369221556),\n",
       " ('Kyrie Irving', 0.038434319514216705),\n",
       " ('Stephen Curry', 0.0383378243696885),\n",
       " ('Domantas Sabonis', 0.03792820497199786),\n",
       " ('Derrick Jones Jr.', 0.03783562661759589),\n",
       " ('Torrey Craig', 0.037769784264030784),\n",
       " (\"De'Andre Hunter\", 0.037509520803792155),\n",
       " ('Isaiah Stewart', 0.03745386638746984),\n",
       " ('Jonathan Kuminga', 0.03720881825111034),\n",
       " ('Isaiah Joe', 0.037179054565231795),\n",
       " ('Jose Alvarado', 0.037125616992894184),\n",
       " ('Patrick Williams', 0.037046729727894544),\n",
       " ('Christian Wood', 0.0370403908375956),\n",
       " ('Jeff Green', 0.03692681316145408),\n",
       " ('Damion Lee', 0.03687915105142111),\n",
       " ('Josh Okogie', 0.03664293317904968),\n",
       " ('Obi Toppin', 0.036326900807312865),\n",
       " ('James Harden', 0.0362561409482443),\n",
       " ('Jalen Suggs', 0.0362548998775537),\n",
       " ('John Konchar', 0.03606646084395084),\n",
       " ('Reggie Jackson', 0.035982499944147685),\n",
       " ('Tre Jones', 0.03596364123786444),\n",
       " ('AJ Griffin', 0.03596334788243547),\n",
       " ('Bol Bol', 0.03577127063504733),\n",
       " ('Sam Hauser', 0.03575061888404578),\n",
       " ('Talen Horton-Tucker', 0.03532578801915991),\n",
       " ('Justise Winslow', 0.035313737007954094),\n",
       " ('Herbert Jones', 0.035214255764449566),\n",
       " ('Quentin Grimes', 0.03512623200637741),\n",
       " ('Malaki Branham', 0.03494667369437242),\n",
       " ('Brandon Clarke', 0.03474039121631972),\n",
       " ('Pat Connaughton', 0.03422618771960546),\n",
       " ('Anthony Lamb', 0.03414837778600799),\n",
       " ('Moritz Wagner', 0.03389845460356314),\n",
       " ('Russell Westbrook', 0.033892345217479206),\n",
       " ('Kyle Lowry', 0.03380402384498257),\n",
       " ('Jalen Johnson', 0.03361150424308572),\n",
       " ('Marcus Smart', 0.03345957095158394),\n",
       " ('Jonas Valanciunas', 0.03317922154371893),\n",
       " ('Wendell Carter Jr.', 0.032735569184362365),\n",
       " ('Gordon Hayward', 0.032547427618735206),\n",
       " ('Mitchell Robinson', 0.032476376703651416),\n",
       " ('Oshae Brissett', 0.03228858521647184),\n",
       " ('P.J. Tucker', 0.03225405017498553),\n",
       " ('Brandon Ingram', 0.03194258294209567),\n",
       " ('Terance Mann', 0.031931100235304655),\n",
       " ('Alec Burks', 0.031723294199200155),\n",
       " ('Norman Powell', 0.03133762631659078),\n",
       " ('Taurean Prince', 0.03087269042992143),\n",
       " ('Maxi Kleber', 0.030783679251403035),\n",
       " ('Isaac Okoro', 0.030595793563958435),\n",
       " ('Seth Curry', 0.030460452483644596),\n",
       " ('Clint Capela', 0.030452210114576148),\n",
       " ('Victor Oladipo', 0.030449224914573757),\n",
       " ('Ish Wainright', 0.030428436975186955),\n",
       " ('Dyson Daniels', 0.030353551170767244),\n",
       " ('Naz Reid', 0.029893716460686663),\n",
       " ('Mikal Bridges', 0.029603227909837847),\n",
       " ('Lamar Stevens', 0.029477228004033292),\n",
       " ('Jalen Smith', 0.02946343083305303),\n",
       " ('Davion Mitchell', 0.029354743224955224),\n",
       " ('Dwight Powell', 0.02921302497512624),\n",
       " ('Lonnie Walker IV', 0.02898378655415927),\n",
       " ('Collin Sexton', 0.02854022260576588),\n",
       " ('Nassir Little', 0.02845763662562334),\n",
       " ('Trendon Watford', 0.028063323315906396),\n",
       " ('Goran Dragic', 0.028043817491233636),\n",
       " ('Andre Drummond', 0.028002313659906006),\n",
       " ('Doug McDermott', 0.027834936029244146),\n",
       " ('Robert Williams III', 0.02763820073800019),\n",
       " ('Jock Landale', 0.02735459402560795),\n",
       " ('Usman Garuba', 0.027309506571219885),\n",
       " ('Patrick Beverley', 0.02724395371233792),\n",
       " ('Tre Mann', 0.02716386388572501),\n",
       " (\"Jae'Sean Tate\", 0.027057392211078595),\n",
       " ('Christian Koloko', 0.026939815568455715),\n",
       " ('Steven Adams', 0.026657757965542955),\n",
       " ('Delon Wright', 0.02665176840818666),\n",
       " ('Zion Williamson', 0.026387131521711658),\n",
       " ('Hamidou Diallo', 0.02633793263175578),\n",
       " ('Zeke Nnaji', 0.02624121825654404),\n",
       " ('Isaiah Jackson', 0.026068409381976982),\n",
       " ('Josh Hart', 0.02581493592064244),\n",
       " ('Kelly Oubre Jr.', 0.025799167443734675),\n",
       " ('Jusuf Nurkic', 0.025778937820440877),\n",
       " ('Terence Davis', 0.0257506979152062),\n",
       " ('Isaiah Livers', 0.02563884433837254),\n",
       " ('Keita Bates-Diop', 0.025264709447286496),\n",
       " ('Aaron Holiday', 0.02517309593295168),\n",
       " ('Rudy Gay', 0.025009283240488414),\n",
       " ('Cameron Johnson', 0.024970293298531128),\n",
       " ('Cory Joseph', 0.024945585666297038),\n",
       " ('LaMelo Ball', 0.024804861441928394),\n",
       " ('Andrew Wiggins', 0.02475436636027544),\n",
       " ('Khris Middleton', 0.024720966191843705),\n",
       " ('Vlatko Cancar', 0.02463566366335159),\n",
       " ('Jaylen Nowell', 0.024098905995979726),\n",
       " ('Kevin Huerter', 0.024016057781992187),\n",
       " ('Karl-Anthony Towns', 0.023612086602922883),\n",
       " ('Xavier Tillman', 0.02338731155277645),\n",
       " ('Chimezie Metu', 0.02331143842422087),\n",
       " ('JT Thor', 0.023221533763389826),\n",
       " ('David Roddy', 0.0232151020404663),\n",
       " ('Luke Kornet', 0.02310511925475345),\n",
       " ('Spencer Dinwiddie', 0.02307138840092602),\n",
       " ('Mark Williams', 0.022958699422743624),\n",
       " ('Kevin Love', 0.022930088610029313),\n",
       " ('Mo Bamba', 0.022929476722159746),\n",
       " ('Dean Wade', 0.022865426776605285),\n",
       " ('Precious Achiuwa', 0.02275814666933638),\n",
       " ('Rui Hachimura', 0.022538131527901812),\n",
       " ('Duncan Robinson', 0.0222797250212549),\n",
       " ('Gary Harris', 0.022053379317849696),\n",
       " (\"D'Angelo Russell\", 0.021739306726394163),\n",
       " ('Joe Ingles', 0.02166142804712864),\n",
       " ('Ochai Agbaji', 0.021547736117295137),\n",
       " ('Miles McBride', 0.021271868822966965),\n",
       " ('Danuel House Jr.', 0.02122349358096156),\n",
       " ('Nick Richards', 0.020822963458763333),\n",
       " ('Bryce McGowens', 0.020791351058126992),\n",
       " ('Montrezl Harrell', 0.020584686722239086),\n",
       " ('Ben Simmons', 0.02057267912138474),\n",
       " ('JaMychal Green', 0.0205479288923062),\n",
       " ('Jabari Walker', 0.01996298028601079),\n",
       " ('Aleksej Pokusevski', 0.019938606948440924),\n",
       " ('Jordan Goodwin', 0.019873519166835774),\n",
       " ('Wesley Matthews', 0.019410468070207708),\n",
       " ('James Bouknight', 0.019349703839651573),\n",
       " ('Dominick Barlow', 0.019234437267889475),\n",
       " ('Richaun Holmes', 0.019138276383945524),\n",
       " ('Wenyen Gabriel', 0.01909805309769118),\n",
       " ('George Hill', 0.019076430203479017),\n",
       " ('Cameron Payne', 0.018957493416890216),\n",
       " ('Darius Bazley', 0.01892954020546548),\n",
       " ('Marvin Bagley III', 0.0188794066584936),\n",
       " ('Haywood Highsmith', 0.018856577456821785),\n",
       " ('Jordan McLaughlin', 0.01882012456653174),\n",
       " ('Mike Conley', 0.01875626577551271),\n",
       " ('Jarred Vanderbilt', 0.0185000209932838),\n",
       " (\"Devonte' Graham\", 0.01834616457893917),\n",
       " ('Julian Champagnie', 0.018297879625150185),\n",
       " ('Sandro Mamukelashvili', 0.018063740214465364),\n",
       " ('Landry Shamet', 0.018049985143676804),\n",
       " ('Jaxson Hayes', 0.017891662904027758),\n",
       " ('Gorgui Dieng', 0.017829600803780543),\n",
       " ('Javonte Green', 0.01776055754594641),\n",
       " ('Paul Reed', 0.017673327849345867),\n",
       " ('Austin Rivers', 0.01761209625025306),\n",
       " ('Daishen Nix', 0.017568517656405207),\n",
       " ('Kai Jones', 0.017473066271194628),\n",
       " ('Garrison Mathews', 0.017417771223345792),\n",
       " ('Theo Maledon', 0.017295626660791492),\n",
       " ('Robert Covington', 0.017157190143632074),\n",
       " ('Chris Duarte', 0.016982618295493565),\n",
       " ('Blake Wesley', 0.01684104664502511),\n",
       " ('Jakob Poeltl', 0.016789531615091363),\n",
       " ('Thaddeus Young', 0.016689792419418658),\n",
       " ('Jericho Sims', 0.016641040238896787),\n",
       " ('Cade Cunningham', 0.016523632984346545),\n",
       " ('Jeremiah Robinson-Earl', 0.0164915131149385),\n",
       " ('Justin Holiday', 0.016259288381929603),\n",
       " ('John Wall', 0.01600741948748115),\n",
       " ('Kevin Knox II', 0.015983178478919446),\n",
       " ('Dorian Finney-Smith', 0.01591468812334986),\n",
       " ('Josh Christopher', 0.015771121384146956),\n",
       " ('DeAndre Jordan', 0.015338036399054537),\n",
       " ('Malik Beasley', 0.015325805065850321),\n",
       " ('Ousmane Dieng', 0.015322094152802949),\n",
       " ('Devin Vassell', 0.015250093481566317),\n",
       " ('Cam Reddish', 0.015000364460168966),\n",
       " ('Eric Gordon', 0.01485657181237655),\n",
       " ('Matisse Thybulle', 0.014377142981212267),\n",
       " ('Derrick Rose', 0.01419141918554772),\n",
       " ('Ricky Rubio', 0.01399903460648732),\n",
       " ('Luke Kennard', 0.013919857486859272),\n",
       " ('Edmond Sumner', 0.013904655174853467),\n",
       " ('Amir Coffey', 0.013849457813719844),\n",
       " ('Josh Richardson', 0.013565499949871995),\n",
       " ('Stanley Johnson', 0.01353230373619609),\n",
       " ('Jalen McDaniels', 0.013477563934994472),\n",
       " ('Thomas Bryant', 0.013363529544157529),\n",
       " ('Payton Pritchard', 0.013272319245612507),\n",
       " ('Ziaire Williams', 0.013165911390961148),\n",
       " ('Saben Lee', 0.013156306585846298),\n",
       " ('Bruno Fernando', 0.013144916237137906),\n",
       " ('Bismack Biyombo', 0.013113292105920077),\n",
       " ('Alex Len', 0.012984780110569165),\n",
       " ('Ish Smith', 0.012840804024660245),\n",
       " ('Frank Ntilikina', 0.0127019105903854),\n",
       " ('Romeo Langford', 0.012697498563368909),\n",
       " ('Cam Thomas', 0.012664658200668241),\n",
       " ('Moussa Diabate', 0.012658590004928862),\n",
       " ('Chuma Okeke', 0.012618524701909216),\n",
       " (\"Day'Ron Sharpe\", 0.012599013405897409),\n",
       " ('Brandon Boston Jr.', 0.012529182646345298),\n",
       " ('KZ Okpala', 0.012280637245704513),\n",
       " ('Simone Fontecchio', 0.012262235277160763),\n",
       " ('Nickeil Alexander-Walker', 0.012187824357856779),\n",
       " ('Greg Brown III', 0.012096445088167245),\n",
       " ('Ty Jerome', 0.012062478770883556),\n",
       " ('Mason Plumlee', 0.01179543522138234),\n",
       " ('Terrence Ross', 0.011676575398009977),\n",
       " ('Jason Preston', 0.011623331136260354),\n",
       " ('Admiral Schofield', 0.011617310498260106),\n",
       " ('Josh Minott', 0.011466739103958717),\n",
       " ('Moses Moody', 0.011457717641559369),\n",
       " ('Duane Washington Jr.', 0.011409029136717236),\n",
       " ('Dewayne Dedmon', 0.01136442471700702),\n",
       " ('Blake Griffin', 0.011321057747899595),\n",
       " ('Dario Saric', 0.011282079831056134),\n",
       " ('Lindy Waters III', 0.011117399781579749),\n",
       " ('Jaden Hardy', 0.011096644795985641),\n",
       " ('Max Christie', 0.011014916092132319),\n",
       " ('Evan Fournier', 0.010953565235879946),\n",
       " ('Nathan Knight', 0.010914176626613455),\n",
       " ('Eugene Omoruyi', 0.010707112062724681),\n",
       " ('Aaron Wiggins', 0.010707103568404451),\n",
       " ('Furkan Korkmaz', 0.010652632801800932),\n",
       " ('McKinley Wright IV', 0.01030748897745129),\n",
       " ('Kevon Harris', 0.01025313798673612),\n",
       " ('R.J. Hampton', 0.0101836265657429),\n",
       " ('MarJon Beauchamp', 0.010108715420945935),\n",
       " ('Gary Payton II', 0.010092569400076135),\n",
       " ('Kendrick Nunn', 0.010088678078970558),\n",
       " ('Peyton Watson', 0.01005052513528202),\n",
       " ('Matt Ryan', 0.010030076662861043),\n",
       " ('Jeff Dowtin Jr.', 0.009972275698514322),\n",
       " ('Jonathan Isaac', 0.009835705140325208),\n",
       " ('T.J. Warren', 0.009455528177088883),\n",
       " ('Luka Garza', 0.00936700169004673),\n",
       " ('TyTy Washington Jr.', 0.009339132814998458),\n",
       " ('Keon Johnson', 0.009265156172806646),\n",
       " ('Malachi Flynn', 0.009244666182607806),\n",
       " ('Kris Dunn', 0.009163998269978421),\n",
       " ('Cody Zeller', 0.009063451268097199),\n",
       " ('Theo Pinson', 0.009025531382182744),\n",
       " ('A.J. Lawson', 0.008930610648371032),\n",
       " ('Garrett Temple', 0.008906956636962511),\n",
       " ('Kira Lewis Jr.', 0.008906956636962511),\n",
       " ('Yuta Watanabe', 0.008831920347930455),\n",
       " ('Wendell Moore Jr.', 0.008814439212701471),\n",
       " ('Davon Reed', 0.008789668938049222),\n",
       " ('Jake LaRavia', 0.00860246405773712),\n",
       " ('Orlando Robinson', 0.008520934089081474),\n",
       " ('Svi Mykhailiuk', 0.008496551176744046),\n",
       " ('Justin Jackson', 0.008451374398758885),\n",
       " ('Kessler Edwards', 0.008431516660795745),\n",
       " ('Davis Bertans', 0.008349611404083874),\n",
       " ('Willy Hernangomez', 0.008268535915132503),\n",
       " ('David Duke Jr.', 0.00823119430403275),\n",
       " ('Noah Vonleh', 0.00814326806225029),\n",
       " ('Anthony Gill', 0.007929531286965556),\n",
       " ('Will Barton', 0.007710018277451804),\n",
       " ('Patty Mills', 0.007421467526719195),\n",
       " ('Johnny Davis', 0.007385691025665097),\n",
       " ('Bones Hyland', 0.007240066037243594),\n",
       " ('Matthew Dellavedova', 0.007223919094640888),\n",
       " ('Cody Martin', 0.007071747985937299),\n",
       " ('Juancho Hernangomez', 0.006934440036693324),\n",
       " ('Taj Gibson', 0.006893118546805649),\n",
       " ('Jae Crowder', 0.006812588448696113),\n",
       " ('Dalen Terry', 0.006695126144265661),\n",
       " ('James Wiseman', 0.006604726520499614),\n",
       " ('JaVale McGee', 0.006467494125908027),\n",
       " ('Juan Toscano-Anderson', 0.006372429407506139),\n",
       " ('Daniel Theis', 0.006268995866114456),\n",
       " ('Goga Bitadze', 0.006245816176903101),\n",
       " ('Raul Neto', 0.006201989174013499),\n",
       " ('Kennedy Chandler', 0.0060816137741630735),\n",
       " ('Damian Jones', 0.005891532323866644),\n",
       " ('Jordan Nwora', 0.005442286873225097),\n",
       " ('Charles Bassey', 0.004554733147020448),\n",
       " ('Patrick Baldwin', 0.00414792053838784),\n",
       " ('Jaylin Williams', -0.030251958903940286)]"
      ]
     },
     "execution_count": 74,
     "metadata": {},
     "output_type": "execute_result"
    }
   ],
   "source": [
    "opp_miss_pg_result"
   ]
  },
  {
   "cell_type": "code",
   "execution_count": 75,
   "id": "63e5a502",
   "metadata": {},
   "outputs": [],
   "source": [
    "pg_res = [fg_pg_result, astto_pg_result, oreb_pg_result, dreb_pg_result, stl_pg_result, opp_miss_pg_result]\n",
    "avg_player_pg = {}\n",
    "\n",
    "for res in pg_res:\n",
    "    \n",
    "    for player in res:\n",
    "        name = player[0]\n",
    "\n",
    "        if name not in avg_player_pg:\n",
    "            avg_player_pg[name] = [player[1]]\n",
    "\n",
    "        else:\n",
    "            avg_player_pg[name].append(player[1])\n",
    "\n",
    "for p in avg_player_pg:\n",
    "    \n",
    "    avg_player_pg[p] = np.mean(avg_player_pg[p])\n",
    "    \n",
    "eig_res = [fg_eigen_result, astto_eigen_result, oreb_eigen_result, dreb_eigen_result, stl_eigen_result, opp_miss_eigen_result]\n",
    "avg_player_eigen = {}\n",
    "\n",
    "for res in eig_res:\n",
    "    \n",
    "    for player in res:\n",
    "        name = player[0]\n",
    "\n",
    "        if name not in avg_player_eigen:\n",
    "            avg_player_eigen[name] = [player[1]]\n",
    "\n",
    "        else:\n",
    "            avg_player_eigen[name].append(player[1])\n",
    "            \n",
    "for p in avg_player_eigen:\n",
    "    \n",
    "    avg_player_eigen[p] = np.mean(avg_player_eigen[p])"
   ]
  },
  {
   "cell_type": "code",
   "execution_count": 76,
   "id": "974d0f18",
   "metadata": {},
   "outputs": [
    {
     "data": {
      "text/plain": [
       "[('Bam Adebayo', 0.08781392003703142),\n",
       " ('Nic Claxton', 0.0868455435773104),\n",
       " ('Nikola Vucevic', 0.08632484536800734),\n",
       " ('Anthony Davis', 0.0823289559679637),\n",
       " ('Ivica Zubac', 0.08163602704337426),\n",
       " ('Nikola Jokic', 0.07961077917932102),\n",
       " ('Luka Doncic', 0.07797015922615322),\n",
       " ('Domantas Sabonis', 0.07783607411276157),\n",
       " ('Josh Giddey', 0.07774134251660787),\n",
       " ('Kevon Looney', 0.07634201419042548)]"
      ]
     },
     "execution_count": 76,
     "metadata": {},
     "output_type": "execute_result"
    }
   ],
   "source": [
    "ovr_pg = sorted(avg_player_pg.items(), key=lambda x: x[1], reverse=True)\n",
    "ovr_eigen = sorted(avg_player_eigen.items(), key=lambda x: x[1], reverse=True)\n",
    "\n",
    "ovr_pg[:10]"
   ]
  },
  {
   "cell_type": "code",
   "execution_count": 77,
   "id": "c5567f02",
   "metadata": {},
   "outputs": [
    {
     "data": {
      "text/plain": [
       "[('Kevon Looney', 0.4288624283742878),\n",
       " ('Nikola Jokic', 0.40875938031687226),\n",
       " ('Domantas Sabonis', 0.3946263545872098),\n",
       " ('Alperen Sengun', 0.3913990605415818),\n",
       " ('Ivica Zubac', 0.38951715627152445),\n",
       " ('Rudy Gobert', 0.38652830095902263),\n",
       " ('Jimmy Butler', 0.3766736236579782),\n",
       " ('Chris Paul', 0.37569885718677565),\n",
       " ('Deandre Ayton', 0.364194979374952),\n",
       " ('Anthony Davis', 0.36350128768519535)]"
      ]
     },
     "execution_count": 77,
     "metadata": {},
     "output_type": "execute_result"
    }
   ],
   "source": [
    "ovr_eigen[:10]"
   ]
  },
  {
   "cell_type": "markdown",
   "id": "82338491",
   "metadata": {},
   "source": [
    "## Most Important Player By Team"
   ]
  },
  {
   "cell_type": "code",
   "execution_count": 78,
   "id": "833fe1ce",
   "metadata": {},
   "outputs": [
    {
     "data": {
      "text/plain": [
       "{'Atlanta Hawks': 'Dejounte Murray',\n",
       " 'Boston Celtics': 'Jayson Tatum',\n",
       " 'Brooklyn Nets': 'Nic Claxton',\n",
       " 'Charlotte Hornets': 'Mason Plumlee',\n",
       " 'Chicago Bulls': 'Nikola Vucevic',\n",
       " 'Cleveland Cavaliers': 'Evan Mobley',\n",
       " 'Dallas Mavericks': 'Luka Doncic',\n",
       " 'Denver Nuggets': 'Nikola Jokic',\n",
       " 'Detroit Pistons': 'Jalen Duren',\n",
       " 'Golden State Warriors': 'Kevon Looney',\n",
       " 'Houston Rockets': 'Alperen Sengun',\n",
       " 'Indiana Pacers': 'Buddy Hield',\n",
       " 'Los Angeles Clippers': 'Ivica Zubac',\n",
       " 'Los Angeles Lakers': 'Anthony Davis',\n",
       " 'Memphis Grizzlies': 'Tyus Jones',\n",
       " 'Miami Heat': 'Bam Adebayo',\n",
       " 'Milwaukee Bucks': 'Jrue Holiday',\n",
       " 'Minnesota Timberwolves': 'Rudy Gobert',\n",
       " 'New Orleans Pelicans': 'CJ McCollum',\n",
       " 'New York Knicks': 'Isaiah Hartenstein',\n",
       " 'Oklahoma City Thunder': 'Josh Giddey',\n",
       " 'Orlando Magic': 'Paolo Banchero',\n",
       " 'Philadelphia 76ers': \"De'Anthony Melton\",\n",
       " 'Phoenix Suns': 'Deandre Ayton',\n",
       " 'Portland Trail Blazers': 'Josh Hart',\n",
       " 'Sacramento Kings': 'Domantas Sabonis',\n",
       " 'San Antonio Spurs': 'Jakob Poeltl',\n",
       " 'Toronto Raptors': 'Scottie Barnes',\n",
       " 'Utah Jazz': 'Walker Kessler',\n",
       " 'Washington Wizards': 'Kristaps Porzingis'}"
      ]
     },
     "execution_count": 78,
     "metadata": {},
     "output_type": "execute_result"
    }
   ],
   "source": [
    "from nba_api.stats.static import teams\n",
    "\n",
    "per_team_pg_dict = {}\n",
    "\n",
    "for i in range(len(all_pg_dicts_opp_miss)): # All list length is the same, and team index is the same\n",
    "    \n",
    "    temp_dict = {}\n",
    "    \n",
    "    tabb = team_abbrev[i]\n",
    "    fg_res = all_pg_dicts_fg[i]\n",
    "    ast_to_res = all_pg_dicts_ast_to[i]\n",
    "    oreb_res = all_pg_dicts_oreb[i]\n",
    "    dreb_res = all_pg_dicts_dreb[i]\n",
    "    stl_res = all_pg_dicts_stl[i]\n",
    "    opp_miss_res = all_pg_dicts_opp_miss[i]\n",
    "    \n",
    "    temp_tups = fg_res + ast_to_res + oreb_res + dreb_res + stl_res + opp_miss_res\n",
    "    \n",
    "    for tup in temp_tups:\n",
    "        name = tup[0]\n",
    "        \n",
    "        if name not in temp_dict:\n",
    "            temp_dict[name] = [tup[1]]\n",
    "        else:\n",
    "            temp_dict[name].append(tup[1])\n",
    "    \n",
    "    for p in temp_dict:\n",
    "        temp_dict[p] = np.mean(temp_dict[p])\n",
    "        \n",
    "    # sort by value\n",
    "    \n",
    "    keys = list(temp_dict.keys())\n",
    "    val = list(temp_dict.values())\n",
    "    idx = np.argsort(val)[::-1]\n",
    "    \n",
    "    sorted_dict = {keys[i]:val[i] for i in idx}\n",
    "    \n",
    "    team = teams.find_team_by_abbreviation(tabb)['full_name']\n",
    "    per_team_pg_dict[team] = next(iter(sorted_dict))\n",
    "\n",
    "    \n",
    "team_keys = list(per_team_pg_dict.keys())\n",
    "team_keys.sort()\n",
    "sorted_per_team_pg = {i: per_team_pg_dict[i] for i in team_keys}\n",
    "sorted_per_team_pg"
   ]
  },
  {
   "cell_type": "code",
   "execution_count": 79,
   "id": "0192add8",
   "metadata": {},
   "outputs": [
    {
     "data": {
      "text/plain": [
       "{'Atlanta Hawks': 'Clint Capela',\n",
       " 'Boston Celtics': 'Jayson Tatum',\n",
       " 'Brooklyn Nets': 'Nic Claxton',\n",
       " 'Charlotte Hornets': 'Mason Plumlee',\n",
       " 'Chicago Bulls': 'Nikola Vucevic',\n",
       " 'Cleveland Cavaliers': 'Evan Mobley',\n",
       " 'Dallas Mavericks': 'Luka Doncic',\n",
       " 'Denver Nuggets': 'Nikola Jokic',\n",
       " 'Detroit Pistons': 'Jalen Duren',\n",
       " 'Golden State Warriors': 'Kevon Looney',\n",
       " 'Houston Rockets': 'Alperen Sengun',\n",
       " 'Indiana Pacers': 'Tyrese Haliburton',\n",
       " 'Los Angeles Clippers': 'Ivica Zubac',\n",
       " 'Los Angeles Lakers': 'Anthony Davis',\n",
       " 'Memphis Grizzlies': 'Steven Adams',\n",
       " 'Miami Heat': 'Bam Adebayo',\n",
       " 'Milwaukee Bucks': 'Jrue Holiday',\n",
       " 'Minnesota Timberwolves': 'Rudy Gobert',\n",
       " 'New Orleans Pelicans': 'Jonas Valanciunas',\n",
       " 'New York Knicks': 'Mitchell Robinson',\n",
       " 'Oklahoma City Thunder': 'Josh Giddey',\n",
       " 'Orlando Magic': 'Paolo Banchero',\n",
       " 'Philadelphia 76ers': 'Tobias Harris',\n",
       " 'Phoenix Suns': 'Deandre Ayton',\n",
       " 'Portland Trail Blazers': 'Josh Hart',\n",
       " 'Sacramento Kings': 'Domantas Sabonis',\n",
       " 'San Antonio Spurs': 'Jakob Poeltl',\n",
       " 'Toronto Raptors': 'Scottie Barnes',\n",
       " 'Utah Jazz': 'Kelly Olynyk',\n",
       " 'Washington Wizards': 'Kristaps Porzingis'}"
      ]
     },
     "execution_count": 79,
     "metadata": {},
     "output_type": "execute_result"
    }
   ],
   "source": [
    "from nba_api.stats.static import teams\n",
    "\n",
    "per_team_eigen_dict = {}\n",
    "\n",
    "for i in range(len(all_eigen_dicts_opp_miss)): # All list length is the same, and team index is the same\n",
    "    \n",
    "    temp_dict = {}\n",
    "    \n",
    "    tabb = team_abbrev[i]\n",
    "    fg_res = all_eigen_dicts_fg[i]\n",
    "    ast_to_res = all_eigen_dicts_ast_to[i]\n",
    "    oreb_res = all_eigen_dicts_oreb[i]\n",
    "    dreb_res = all_eigen_dicts_dreb[i]\n",
    "    stl_res = all_eigen_dicts_stl[i]\n",
    "    opp_miss_res = all_eigen_dicts_opp_miss[i]\n",
    "    \n",
    "    temp_tups = fg_res + ast_to_res + oreb_res + dreb_res + stl_res + opp_miss_res\n",
    "    \n",
    "    for tup in temp_tups:\n",
    "        name = tup[0]\n",
    "        \n",
    "        if name not in temp_dict:\n",
    "            temp_dict[name] = [tup[1]]\n",
    "        else:\n",
    "            temp_dict[name].append(tup[1])\n",
    "    \n",
    "    for p in temp_dict:\n",
    "        temp_dict[p] = np.mean(temp_dict[p])\n",
    "        \n",
    "    # sort by value\n",
    "    \n",
    "    keys = list(temp_dict.keys())\n",
    "    val = list(temp_dict.values())\n",
    "    idx = np.argsort(val)[::-1]\n",
    "    \n",
    "    sorted_dict = {keys[i]:val[i] for i in idx}\n",
    "    \n",
    "    team = teams.find_team_by_abbreviation(tabb)['full_name']\n",
    "    per_team_eigen_dict[team] = next(iter(sorted_dict))\n",
    "\n",
    "    \n",
    "team_keys = list(per_team_eigen_dict.keys())\n",
    "team_keys.sort()\n",
    "sorted_per_team_eigen = {i: per_team_eigen_dict[i] for i in team_keys}\n",
    "sorted_per_team_eigen"
   ]
  }
 ],
 "metadata": {
  "kernelspec": {
   "display_name": "Python 3 (ipykernel)",
   "language": "python",
   "name": "python3"
  },
  "language_info": {
   "codemirror_mode": {
    "name": "ipython",
    "version": 3
   },
   "file_extension": ".py",
   "mimetype": "text/x-python",
   "name": "python",
   "nbconvert_exporter": "python",
   "pygments_lexer": "ipython3",
   "version": "3.10.13"
  }
 },
 "nbformat": 4,
 "nbformat_minor": 5
}
